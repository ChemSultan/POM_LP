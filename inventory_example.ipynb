{
 "cells": [
  {
   "cell_type": "code",
   "execution_count": 7,
   "id": "1317b171",
   "metadata": {},
   "outputs": [],
   "source": [
    "import pandas as pd\n",
    "from  itertools import product"
   ]
  },
  {
   "cell_type": "markdown",
   "id": "ceacadcc",
   "metadata": {},
   "source": [
    "### Goal\n",
    "To create a Python script that reads a csv file and convert its content to a tuple-keyed dictionary."
   ]
  },
  {
   "cell_type": "code",
   "execution_count": 8,
   "id": "fff18424",
   "metadata": {},
   "outputs": [
    {
     "data": {
      "text/html": [
       "<div>\n",
       "<style scoped>\n",
       "    .dataframe tbody tr th:only-of-type {\n",
       "        vertical-align: middle;\n",
       "    }\n",
       "\n",
       "    .dataframe tbody tr th {\n",
       "        vertical-align: top;\n",
       "    }\n",
       "\n",
       "    .dataframe thead th {\n",
       "        text-align: right;\n",
       "    }\n",
       "</style>\n",
       "<table border=\"1\" class=\"dataframe\">\n",
       "  <thead>\n",
       "    <tr style=\"text-align: right;\">\n",
       "      <th></th>\n",
       "      <th>date</th>\n",
       "      <th>warehouse</th>\n",
       "      <th>demand</th>\n",
       "    </tr>\n",
       "  </thead>\n",
       "  <tbody>\n",
       "    <tr>\n",
       "      <th>0</th>\n",
       "      <td>1</td>\n",
       "      <td>x</td>\n",
       "      <td>3.1</td>\n",
       "    </tr>\n",
       "    <tr>\n",
       "      <th>1</th>\n",
       "      <td>3</td>\n",
       "      <td>y</td>\n",
       "      <td>4.2</td>\n",
       "    </tr>\n",
       "  </tbody>\n",
       "</table>\n",
       "</div>"
      ],
      "text/plain": [
       "   date warehouse  demand\n",
       "0     1         x     3.1\n",
       "1     3         y     4.2"
      ]
     },
     "execution_count": 8,
     "metadata": {},
     "output_type": "execute_result"
    }
   ],
   "source": [
    "df = pd.DataFrame(\n",
    "    [\n",
    "        {\"date\": 1, \"warehouse\": \"x\", \"demand\": 3.1},\n",
    "        {\"date\": 3, \"warehouse\": \"y\", \"demand\": 4.2},\n",
    "    ]\n",
    ")\n",
    "df\n"
   ]
  },
  {
   "cell_type": "code",
   "execution_count": 9,
   "id": "f25e32bd",
   "metadata": {},
   "outputs": [],
   "source": [
    "date_list = [1, 3]\n",
    "warehouse_list = [\"x\", \"y\"]\n"
   ]
  },
  {
   "cell_type": "code",
   "execution_count": 10,
   "id": "1c4f55fb",
   "metadata": {},
   "outputs": [
    {
     "name": "stdout",
     "output_type": "stream",
     "text": [
      "(1, 'x', 3.1) <class 'tuple'>\n"
     ]
    }
   ],
   "source": [
    "row = list(df.itertuples(index=False,name=None))[0]\n",
    "print(row, type(row))\n",
    "\n",
    "\n",
    "# Output:\n",
    "# (1, 'x', 3.1) <class 'tuple'>"
   ]
  },
  {
   "cell_type": "code",
   "execution_count": null,
   "id": "993e518e",
   "metadata": {},
   "outputs": [
    {
     "name": "stdout",
     "output_type": "stream",
     "text": [
      "{(1, 'x'): 3.1, (3, 'y'): 4.2}\n"
     ]
    }
   ],
   "source": [
    "_dict = dict()\n",
    "for (d,n, D) in df.itertuples(index=False, name=None): # no named tuples for simplicity\n",
    "    _dict[(d, n)] = D\n",
    "print(_dict)\n",
    "\n",
    "# more fancy way in a single line\n",
    "_dict = {(d, n): D for (d, n, D) in df.itertuples(index=False, name=None)}"
   ]
  },
  {
   "cell_type": "code",
   "execution_count": null,
   "id": "9631f417",
   "metadata": {},
   "outputs": [
    {
     "name": "stdout",
     "output_type": "stream",
     "text": [
      "Found: 1, x -> 3.1\n",
      "Missing: 1, y\n",
      "Missing: 3, x\n",
      "Found: 3, y -> 4.2\n"
     ]
    }
   ],
   "source": [
    "for d, n in product(date_list, warehouse_list):\n",
    "    # if (d, n) not in _dict:\n",
    "    #     print(f\"Missing: {d}, {n}\")\n",
    "    # else:\n",
    "    #     print(f\"Found: {d}, {n} -> {_dict[(d, n)]}\")\n",
    "    print((d,n), _dict.get((d, n), \"Missing\"))\n",
    "    "
   ]
  },
  {
   "cell_type": "code",
   "execution_count": null,
   "id": "6b071c5d",
   "metadata": {},
   "outputs": [],
   "source": []
  }
 ],
 "metadata": {
  "kernelspec": {
   "display_name": "base",
   "language": "python",
   "name": "python3"
  },
  "language_info": {
   "codemirror_mode": {
    "name": "ipython",
    "version": 3
   },
   "file_extension": ".py",
   "mimetype": "text/x-python",
   "name": "python",
   "nbconvert_exporter": "python",
   "pygments_lexer": "ipython3",
   "version": "3.11.7"
  }
 },
 "nbformat": 4,
 "nbformat_minor": 5
}
